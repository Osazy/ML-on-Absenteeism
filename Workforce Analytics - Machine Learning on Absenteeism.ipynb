{
 "cells": [
  {
   "cell_type": "markdown",
   "metadata": {},
   "source": [
    "## Predicting Absenteeism \n"
   ]
  },
  {
   "cell_type": "markdown",
   "metadata": {},
   "source": [
    "This report analyses all the data available from HappyForce in order to predict workforce absenteeism & undestand the drivers.\n",
    "\n",
    "Objectives\n",
    "* Develop machine learning to **predict** absenteeism - via Support Vector Machine & Random Forest Tree algorithms\n",
    "* Analyse which **features** are likely to predict absenteeism -  via Recursive Feature Elimination (RFE) on the \"corporate-view\" of the data by date.\n",
    "* Build categories for different **types** of employees by their motivation - via KMeans Clustering on the \"individual-view\" of the data by employee. \n",
    "* Discuss what **actions** can be taken within an organisation to avoid absenteeism.\n",
    "\n",
    "(c 950 words / of which 625 insights)"
   ]
  },
  {
   "cell_type": "markdown",
   "metadata": {},
   "source": [
    "### Import Libraries"
   ]
  },
  {
   "cell_type": "code",
   "execution_count": 127,
   "metadata": {},
   "outputs": [],
   "source": [
    "# Importing libraries: \n",
    "import numpy as np\n",
    "import pandas as pd\n",
    "import matplotlib.pyplot as plt\n",
    "%matplotlib inline\n",
    "import seaborn as sns \n",
    "\n",
    "from ipywidgets import interact, interact_manual\n",
    "\n",
    "# Supressing warnings for published version:\n",
    "import sys\n",
    "import warnings\n",
    "if not sys.warnoptions:\n",
    "    warnings.simplefilter(\"ignore\")\n",
    "    \n",
    "import datetime  ## to manipulate dates in the absenteeism dataframe"
   ]
  },
  {
   "cell_type": "markdown",
   "metadata": {},
   "source": [
    "### Preview Data"
   ]
  },
  {
   "cell_type": "code",
   "execution_count": 128,
   "metadata": {},
   "outputs": [],
   "source": [
    "# Import data & preview\n",
    "PATH_TO_DATA = './predict-employee-ausentism/'"
   ]
  },
  {
   "cell_type": "code",
   "execution_count": 129,
   "metadata": {},
   "outputs": [
    {
     "data": {
      "text/html": [
       "<div>\n",
       "<style scoped>\n",
       "    .dataframe tbody tr th:only-of-type {\n",
       "        vertical-align: middle;\n",
       "    }\n",
       "\n",
       "    .dataframe tbody tr th {\n",
       "        vertical-align: top;\n",
       "    }\n",
       "\n",
       "    .dataframe thead th {\n",
       "        text-align: right;\n",
       "    }\n",
       "</style>\n",
       "<table border=\"1\" class=\"dataframe\">\n",
       "  <thead>\n",
       "    <tr style=\"text-align: right;\">\n",
       "      <th></th>\n",
       "      <th>companyAlias</th>\n",
       "      <th>creationDate</th>\n",
       "      <th>type</th>\n",
       "      <th>status</th>\n",
       "      <th>timezone</th>\n",
       "    </tr>\n",
       "  </thead>\n",
       "  <tbody>\n",
       "    <tr>\n",
       "      <th>0</th>\n",
       "      <td>C1</td>\n",
       "      <td>2017-04-26 09:04</td>\n",
       "      <td>MANUFACTURING</td>\n",
       "      <td>ACTIVE</td>\n",
       "      <td>Europe/Madrid</td>\n",
       "    </tr>\n",
       "  </tbody>\n",
       "</table>\n",
       "</div>"
      ],
      "text/plain": [
       "  companyAlias      creationDate           type  status       timezone\n",
       "0           C1  2017-04-26 09:04  MANUFACTURING  ACTIVE  Europe/Madrid"
      ]
     },
     "execution_count": 129,
     "metadata": {},
     "output_type": "execute_result"
    }
   ],
   "source": [
    "# A listing of all companies available on the dataset\n",
    "df_dict = pd.read_csv(PATH_TO_DATA + 'company_dictionary.csv', header=0)\n",
    "df_dict.head()  ## The HappyForce dataset contains data relating to one company, C1, a Manufacturing company in Madrid. "
   ]
  },
  {
   "cell_type": "code",
   "execution_count": 130,
   "metadata": {},
   "outputs": [
    {
     "data": {
      "text/html": [
       "<div>\n",
       "<style scoped>\n",
       "    .dataframe tbody tr th:only-of-type {\n",
       "        vertical-align: middle;\n",
       "    }\n",
       "\n",
       "    .dataframe tbody tr th {\n",
       "        vertical-align: top;\n",
       "    }\n",
       "\n",
       "    .dataframe thead th {\n",
       "        text-align: right;\n",
       "    }\n",
       "</style>\n",
       "<table border=\"1\" class=\"dataframe\">\n",
       "  <thead>\n",
       "    <tr style=\"text-align: right;\">\n",
       "      <th></th>\n",
       "      <th>employee</th>\n",
       "      <th>companyAlias</th>\n",
       "      <th>numVotes</th>\n",
       "      <th>lastParticipationDate</th>\n",
       "      <th>timezone</th>\n",
       "      <th>stillExists</th>\n",
       "      <th>deletedOn</th>\n",
       "    </tr>\n",
       "  </thead>\n",
       "  <tbody>\n",
       "    <tr>\n",
       "      <th>0</th>\n",
       "      <td>l8</td>\n",
       "      <td>C1</td>\n",
       "      <td>285</td>\n",
       "      <td>3/8/19 1:03</td>\n",
       "      <td>Europe/Madrid</td>\n",
       "      <td>True</td>\n",
       "      <td>NaN</td>\n",
       "    </tr>\n",
       "  </tbody>\n",
       "</table>\n",
       "</div>"
      ],
      "text/plain": [
       "  employee companyAlias  numVotes lastParticipationDate       timezone  \\\n",
       "0       l8           C1       285           3/8/19 1:03  Europe/Madrid   \n",
       "\n",
       "   stillExists deletedOn  \n",
       "0         True       NaN  "
      ]
     },
     "execution_count": 130,
     "metadata": {},
     "output_type": "execute_result"
    }
   ],
   "source": [
    "# A listing of all employees of the companies on the dataset. Their status on the system and some useful information.\n",
    "df_participation = pd.read_csv(PATH_TO_DATA + 'lastParticipationExists.csv', header=0)\n",
    "df_participation.head(1)"
   ]
  },
  {
   "cell_type": "code",
   "execution_count": 131,
   "metadata": {},
   "outputs": [
    {
     "data": {
      "text/html": [
       "<div>\n",
       "<style scoped>\n",
       "    .dataframe tbody tr th:only-of-type {\n",
       "        vertical-align: middle;\n",
       "    }\n",
       "\n",
       "    .dataframe tbody tr th {\n",
       "        vertical-align: top;\n",
       "    }\n",
       "\n",
       "    .dataframe thead th {\n",
       "        text-align: right;\n",
       "    }\n",
       "</style>\n",
       "<table border=\"1\" class=\"dataframe\">\n",
       "  <thead>\n",
       "    <tr style=\"text-align: right;\">\n",
       "      <th></th>\n",
       "      <th>employee</th>\n",
       "      <th>companyAlias</th>\n",
       "      <th>voteDate</th>\n",
       "      <th>vote</th>\n",
       "    </tr>\n",
       "  </thead>\n",
       "  <tbody>\n",
       "    <tr>\n",
       "      <th>0</th>\n",
       "      <td>2ER</td>\n",
       "      <td>C1</td>\n",
       "      <td>2017-05-03 02:05</td>\n",
       "      <td>1</td>\n",
       "    </tr>\n",
       "  </tbody>\n",
       "</table>\n",
       "</div>"
      ],
      "text/plain": [
       "  employee companyAlias          voteDate  vote\n",
       "0      2ER           C1  2017-05-03 02:05     1"
      ]
     },
     "execution_count": 131,
     "metadata": {},
     "output_type": "execute_result"
    }
   ],
   "source": [
    "# A listing of all votes registered on Happyforce to the question \"How are you today?\" from the employees on the dataset.\n",
    "## 1 to 4: Very Bad, Bad, Good, Very Good\n",
    "df_votes = pd.read_csv(PATH_TO_DATA + 'votes.csv', header=0)\n",
    "df_votes.head(1)"
   ]
  },
  {
   "cell_type": "code",
   "execution_count": 132,
   "metadata": {},
   "outputs": [
    {
     "data": {
      "text/html": [
       "<div>\n",
       "<style scoped>\n",
       "    .dataframe tbody tr th:only-of-type {\n",
       "        vertical-align: middle;\n",
       "    }\n",
       "\n",
       "    .dataframe tbody tr th {\n",
       "        vertical-align: top;\n",
       "    }\n",
       "\n",
       "    .dataframe thead th {\n",
       "        text-align: right;\n",
       "    }\n",
       "</style>\n",
       "<table border=\"1\" class=\"dataframe\">\n",
       "  <thead>\n",
       "    <tr style=\"text-align: right;\">\n",
       "      <th></th>\n",
       "      <th>employee</th>\n",
       "      <th>companyAlias</th>\n",
       "      <th>commentId</th>\n",
       "      <th>commentLength</th>\n",
       "      <th>likes</th>\n",
       "      <th>dislikes</th>\n",
       "      <th>commentDate</th>\n",
       "      <th>feedbackType</th>\n",
       "    </tr>\n",
       "  </thead>\n",
       "  <tbody>\n",
       "    <tr>\n",
       "      <th>0</th>\n",
       "      <td>aKP</td>\n",
       "      <td>C1</td>\n",
       "      <td>5909b33da2ede4000473da6f</td>\n",
       "      <td>17</td>\n",
       "      <td>9</td>\n",
       "      <td>0</td>\n",
       "      <td>2017-05-03 12:05</td>\n",
       "      <td>OTHER</td>\n",
       "    </tr>\n",
       "  </tbody>\n",
       "</table>\n",
       "</div>"
      ],
      "text/plain": [
       "  employee companyAlias                 commentId  commentLength  likes  \\\n",
       "0      aKP           C1  5909b33da2ede4000473da6f             17      9   \n",
       "\n",
       "   dislikes       commentDate feedbackType  \n",
       "0         0  2017-05-03 12:05        OTHER  "
      ]
     },
     "execution_count": 132,
     "metadata": {},
     "output_type": "execute_result"
    }
   ],
   "source": [
    "# A listing of all comments registered by the employees on the dataset.\n",
    "## When the employees submit a comment, they have to chose between 4 categories: INFORMATION, CONGRATULATION, SUGGESTION or SOMETHING IS WRONG \n",
    "### (note: not all the entries have these information since that feature was added later)\n",
    "df_comment = pd.read_csv(PATH_TO_DATA + 'comments_by_employees_in_anonymous_forum.csv', header=0)\n",
    "df_comment.head(1)\n",
    "#df_comment.shape ## This will be the originating comment ... that generates the likes/dislikes"
   ]
  },
  {
   "cell_type": "code",
   "execution_count": 133,
   "metadata": {},
   "outputs": [
    {
     "data": {
      "text/html": [
       "<div>\n",
       "<style scoped>\n",
       "    .dataframe tbody tr th:only-of-type {\n",
       "        vertical-align: middle;\n",
       "    }\n",
       "\n",
       "    .dataframe tbody tr th {\n",
       "        vertical-align: top;\n",
       "    }\n",
       "\n",
       "    .dataframe thead th {\n",
       "        text-align: right;\n",
       "    }\n",
       "</style>\n",
       "<table border=\"1\" class=\"dataframe\">\n",
       "  <thead>\n",
       "    <tr style=\"text-align: right;\">\n",
       "      <th></th>\n",
       "      <th>employee</th>\n",
       "      <th>companyAlias</th>\n",
       "      <th>interaction</th>\n",
       "      <th>commentId</th>\n",
       "      <th>actionDate</th>\n",
       "    </tr>\n",
       "  </thead>\n",
       "  <tbody>\n",
       "    <tr>\n",
       "      <th>0</th>\n",
       "      <td>YX4</td>\n",
       "      <td>C1</td>\n",
       "      <td>1</td>\n",
       "      <td>5909b33da2ede4000473da6f</td>\n",
       "      <td>2017-05-03 12:05</td>\n",
       "    </tr>\n",
       "  </tbody>\n",
       "</table>\n",
       "</div>"
      ],
      "text/plain": [
       "  employee companyAlias  interaction                 commentId  \\\n",
       "0      YX4           C1            1  5909b33da2ede4000473da6f   \n",
       "\n",
       "         actionDate  \n",
       "0  2017-05-03 12:05  "
      ]
     },
     "execution_count": 133,
     "metadata": {},
     "output_type": "execute_result"
    }
   ],
   "source": [
    "# Which Interaction is performed -1 -> disagree / 1 agree / 2 reply.\n",
    "df_interaction = pd.read_csv(PATH_TO_DATA + 'commentInteractions.csv', header=0)\n",
    "df_interaction.head(1)\n",
    "#df_interaction.shape  ## This is the bigger dataset, as it shows who has liked/disliked each comment"
   ]
  },
  {
   "cell_type": "code",
   "execution_count": 134,
   "metadata": {},
   "outputs": [
    {
     "data": {
      "text/html": [
       "<div>\n",
       "<style scoped>\n",
       "    .dataframe tbody tr th:only-of-type {\n",
       "        vertical-align: middle;\n",
       "    }\n",
       "\n",
       "    .dataframe tbody tr th {\n",
       "        vertical-align: top;\n",
       "    }\n",
       "\n",
       "    .dataframe thead th {\n",
       "        text-align: right;\n",
       "    }\n",
       "</style>\n",
       "<table border=\"1\" class=\"dataframe\">\n",
       "  <thead>\n",
       "    <tr style=\"text-align: right;\">\n",
       "      <th></th>\n",
       "      <th>employee</th>\n",
       "      <th>companyAlias</th>\n",
       "      <th>from</th>\n",
       "      <th>to</th>\n",
       "      <th>reason</th>\n",
       "    </tr>\n",
       "  </thead>\n",
       "  <tbody>\n",
       "    <tr>\n",
       "      <th>0</th>\n",
       "      <td>19Q</td>\n",
       "      <td>C1</td>\n",
       "      <td>10/1/18 0:10</td>\n",
       "      <td>10/26/18 0:10</td>\n",
       "      <td>Workplace accident</td>\n",
       "    </tr>\n",
       "  </tbody>\n",
       "</table>\n",
       "</div>"
      ],
      "text/plain": [
       "  employee companyAlias          from             to              reason\n",
       "0      19Q           C1  10/1/18 0:10  10/26/18 0:10  Workplace accident"
      ]
     },
     "execution_count": 134,
     "metadata": {},
     "output_type": "execute_result"
    }
   ],
   "source": [
    "df_absentee = pd.read_csv(PATH_TO_DATA + 'employeeAbsenteeism.csv', header=0)\n",
    "df_absentee.head(1)  ## This is the y variable - what you are trying to predict"
   ]
  },
  {
   "cell_type": "code",
   "execution_count": 135,
   "metadata": {},
   "outputs": [
    {
     "data": {
      "text/plain": [
       "array(['C1'], dtype=object)"
      ]
     },
     "execution_count": 135,
     "metadata": {},
     "output_type": "execute_result"
    }
   ],
   "source": [
    "# Validated: The HappyForce dataset contains data relating to one company, C1, a Manufacturing company in Madrid. \n",
    "df_dict.companyAlias.unique()  ## no further insights\n",
    "df_comment.companyAlias.unique()\n",
    "df_interaction.companyAlias.unique()\n",
    "df_absentee.companyAlias.unique()\n",
    "df_participation.companyAlias.unique()\n",
    "df_votes.companyAlias.unique()"
   ]
  },
  {
   "cell_type": "markdown",
   "metadata": {},
   "source": [
    "### Absenteeism / Votes / Comment / Interactions - analyse and combine BY DATE (df_classifier)"
   ]
  },
  {
   "cell_type": "markdown",
   "metadata": {},
   "source": [
    "To enable the prediction of the number of absenteeism at a given date, the raw data (covering absenteeism, votes etc) is cleaned, analysed and combined into a master dataset BY DATE i.e. number of absentees at a given date vs. average score, comments etc."
   ]
  },
  {
   "cell_type": "markdown",
   "metadata": {},
   "source": [
    "#### a) Calculate the number of absent workers per day"
   ]
  },
  {
   "cell_type": "code",
   "execution_count": 136,
   "metadata": {},
   "outputs": [],
   "source": [
    "### Pass dates to datetime format\n",
    "df_absentee['from'] = pd.to_datetime(df_absentee['from'])\n",
    "df_absentee['to'] = pd.to_datetime(df_absentee['to'])\n",
    "\n",
    "df_absentee = df_absentee.sort_values(by=['from'])  ## sort by from date\n",
    "df_absentee.reset_index(inplace = True, drop = True) ## reset index by sorted values, so can pick up index correctly\n",
    "\n",
    "#df_absentee.tail()"
   ]
  },
  {
   "cell_type": "code",
   "execution_count": 137,
   "metadata": {},
   "outputs": [],
   "source": [
    "absent_date = {}  ## initialise dictionary for absent index : absent dates\n",
    "\n",
    "for i in range(df_absentee.shape[0]):  ## iterate through all rows in the dataframe\n",
    "    #print (i)\n",
    "    start = df_absentee['from'][i]\n",
    "    end = df_absentee['to'][i]\n",
    " \n",
    "    def date_range(start, end):\n",
    "        r = (end+datetime.timedelta(days=1)-start).days\n",
    "        return [start+datetime.timedelta(days=i) for i in range(r)]\n",
    "\n",
    "    dateList = date_range(start, end)\n",
    "    dateList = [date.strftime('%Y-%m-%d') for date in dateList]  ## format to yyyy-mm-dd\n",
    "    #print(dateList)\n",
    "\n",
    "    absent_date.update( {i : [dateList]} )  ## add to absent_date dictonary\n",
    "\n",
    "#print(absent_date)\n",
    "\n",
    "absent_date_df = pd.DataFrame(absent_date)  ## convert dictionary to dataframe\n",
    "absent_date_df = absent_date_df.T  ## transpose so index is rows rather than column names\n",
    "\n",
    "absent_date_df.columns = ['absent_date']  ## change column name\n",
    "absent_date_df.head()  ## preview data wrangling\n",
    "\n",
    "\n",
    "\n",
    "## Add the absent_date to orig dataframe, as a column\n",
    "df_absentee = pd.concat([df_absentee, absent_date_df], axis=1) \n",
    "df_absentee.head()\n",
    "\n",
    "## Convert to yyyy-mm-dd date format\n",
    "df_absentee['from'] = df_absentee['from'].dt.strftime('%Y-%m-%d')\n",
    "df_absentee['to'] = df_absentee['to'].dt.strftime('%Y-%m-%d')\n",
    "\n",
    "#df_absentee.tail()"
   ]
  },
  {
   "cell_type": "code",
   "execution_count": 138,
   "metadata": {},
   "outputs": [],
   "source": [
    "## Count absentees per day\n",
    "absent_count = pd.Series(sum([item for item in df_absentee.absent_date], [])).value_counts()  ## counts number of abseentees at each date\n",
    "absent_count = absent_count.rename_axis('absent_date').reset_index(name='absent_count')  ## format series output into dframe\n",
    "absent_count = absent_count.sort_values(by=['absent_date']).reset_index(drop = True)  ## sort by absent date & reindex\n",
    "#absent_count.tail()"
   ]
  },
  {
   "cell_type": "markdown",
   "metadata": {},
   "source": [
    "#### b) Calculate the average vote score per day, re. \"How are you today?\""
   ]
  },
  {
   "cell_type": "code",
   "execution_count": 139,
   "metadata": {},
   "outputs": [],
   "source": [
    "### Format into datetime, so can calculate mean (using .resample method)\n",
    "df_votes.voteDate = pd.to_datetime(df_votes.voteDate, format=\"%Y-%m-%d\") ## format to datetime\n",
    "#df_votes.head()"
   ]
  },
  {
   "cell_type": "code",
   "execution_count": 140,
   "metadata": {},
   "outputs": [],
   "source": [
    "### Calculate the mean of votes per day\n",
    "## 1 to 4: Very Bad, Bad, Good, Very Good\n",
    "votes_mean = df_votes.resample('D', on='voteDate').mean().reset_index().sort_values(by='voteDate')\n",
    "votes_mean['voteDate'] = votes_mean['voteDate'].dt.strftime('%Y-%m-%d') ## Convert to yyyy-mm-dd date format, so can join later\n",
    "\n",
    "#votes_mean.head()"
   ]
  },
  {
   "cell_type": "markdown",
   "metadata": {},
   "source": [
    "#### c) Comments: calculate the total comment length, likes, dislikes per day; and frequency of each feedback type per day"
   ]
  },
  {
   "cell_type": "code",
   "execution_count": 141,
   "metadata": {},
   "outputs": [],
   "source": [
    "### Format into datetime, so can calculate sums (using .resample method)\n",
    "df_comment.commentDate = pd.to_datetime(df_comment.commentDate, format=\"%Y-%m-%d\") ## format to datetime\n",
    "#df_comment.head(10)"
   ]
  },
  {
   "cell_type": "code",
   "execution_count": 142,
   "metadata": {},
   "outputs": [],
   "source": [
    "# Calculate the total comment length, likes, dislikes per day\n",
    "comment_sum = df_comment.resample('D', on='commentDate').sum().reset_index().sort_values(by='commentDate') ## needs to be in datetime\n",
    "comment_sum['commentDate'] = comment_sum['commentDate'].dt.strftime('%Y-%m-%d') ## Convert to yyyy-mm-dd date format, so can join later\n",
    "comment_sum.head()\n",
    "\n",
    "# Convert to yyyy-mm-dd date format, so can do various count manipulations\n",
    "df_comment['commentDate'] = df_comment['commentDate'].dt.strftime('%Y-%m-%d')\n",
    "\n",
    "# Count number of comments per day\n",
    "comment_count = pd.Series(df_comment.commentDate).value_counts()  ## counts number of comments at each date\n",
    "comment_count = comment_count.rename_axis('commentDate').reset_index(name='comment_count')  ## format series output into dframe\n",
    "comment_count = comment_count.sort_values(by=['commentDate']).reset_index(drop = True)  ## sort by absent date & reindex\n",
    "comment_count.head()\n",
    "\n",
    "# Calculate frequency of each feedback type per day\n",
    "## When the employees submit a comment, they have to chose between 4 categories: INFORMATION, CONGRATULATION, SUGGESTION or SOMETHING IS WRONG \n",
    "feedbackType_count = df_comment.pivot_table(index=\"commentDate\", columns='feedbackType', aggfunc='size', fill_value=0)\n",
    "feedbackType_count.head()\n",
    "\n",
    "# Join into one comments dataframe: total comment length, likes, dislikes; Count number of comments; Frequency of each feedback type per day\n",
    "comment = pd.merge(comment_sum, comment_count, on='commentDate', how = 'outer')\n",
    "comment = pd.merge(comment, feedbackType_count, on='commentDate', how = 'outer')\n",
    "#comment.head()"
   ]
  },
  {
   "cell_type": "markdown",
   "metadata": {},
   "source": [
    "#### d) Frequency of each interaction type per day"
   ]
  },
  {
   "cell_type": "code",
   "execution_count": 143,
   "metadata": {},
   "outputs": [],
   "source": [
    "# Format into datetime, so can calculate sums (using .resample method)\n",
    "df_interaction.actionDate = pd.to_datetime(df_interaction.actionDate, format=\"%Y-%m-%d\") ## format to datetime\n",
    "\n",
    "# Convert to yyyy-mm-dd date format, so can do various count manipulations\n",
    "df_interaction['actionDate'] = df_interaction['actionDate'].dt.strftime('%Y-%m-%d')"
   ]
  },
  {
   "cell_type": "code",
   "execution_count": 144,
   "metadata": {},
   "outputs": [],
   "source": [
    "# Calculate frequency of each interaction type per day\n",
    "interactionType_count = df_interaction.pivot_table(index=\"actionDate\", columns='interaction', aggfunc='size', fill_value=0)\n",
    "\n",
    "# Which Interaction is performed -1 -> disagree / 1 agree / 2 reply; relabel columns\n",
    "interactionType_count.rename(columns = {-1:'disagree', 1:'agree'}, inplace = True) \n",
    "\n",
    "#interactionType_count.head() ## this gives the same results as likes/dislikes count\n",
    "## BUT: may be useful later on to ID which employee dis/liked a comment vs employee that posted the comment (train/test split)"
   ]
  },
  {
   "cell_type": "markdown",
   "metadata": {},
   "source": [
    "#### e) Absenteeism / Votes / Comment / (Interaction) - combine into master dataframe BY DATE"
   ]
  },
  {
   "cell_type": "code",
   "execution_count": 145,
   "metadata": {},
   "outputs": [
    {
     "data": {
      "text/html": [
       "<div>\n",
       "<style scoped>\n",
       "    .dataframe tbody tr th:only-of-type {\n",
       "        vertical-align: middle;\n",
       "    }\n",
       "\n",
       "    .dataframe tbody tr th {\n",
       "        vertical-align: top;\n",
       "    }\n",
       "\n",
       "    .dataframe thead th {\n",
       "        text-align: right;\n",
       "    }\n",
       "</style>\n",
       "<table border=\"1\" class=\"dataframe\">\n",
       "  <thead>\n",
       "    <tr style=\"text-align: right;\">\n",
       "      <th></th>\n",
       "      <th>date</th>\n",
       "      <th>absent_count</th>\n",
       "      <th>vote</th>\n",
       "      <th>commentLength</th>\n",
       "      <th>likes</th>\n",
       "      <th>dislikes</th>\n",
       "      <th>comment_count</th>\n",
       "      <th>CONGRATULATION</th>\n",
       "      <th>CRITICISM</th>\n",
       "      <th>INFORMATION</th>\n",
       "      <th>OTHER</th>\n",
       "      <th>SUGGESTION</th>\n",
       "      <th>disagree</th>\n",
       "      <th>agree</th>\n",
       "    </tr>\n",
       "  </thead>\n",
       "  <tbody>\n",
       "    <tr>\n",
       "      <th>673</th>\n",
       "      <td>20190307</td>\n",
       "      <td>0.0</td>\n",
       "      <td>2.628440</td>\n",
       "      <td>1640</td>\n",
       "      <td>197</td>\n",
       "      <td>29</td>\n",
       "      <td>19.0</td>\n",
       "      <td>2.0</td>\n",
       "      <td>0.0</td>\n",
       "      <td>4.0</td>\n",
       "      <td>13.0</td>\n",
       "      <td>0.0</td>\n",
       "      <td>37.0</td>\n",
       "      <td>152.0</td>\n",
       "    </tr>\n",
       "    <tr>\n",
       "      <th>674</th>\n",
       "      <td>20190308</td>\n",
       "      <td>0.0</td>\n",
       "      <td>2.602941</td>\n",
       "      <td>1345</td>\n",
       "      <td>164</td>\n",
       "      <td>76</td>\n",
       "      <td>13.0</td>\n",
       "      <td>1.0</td>\n",
       "      <td>1.0</td>\n",
       "      <td>4.0</td>\n",
       "      <td>6.0</td>\n",
       "      <td>1.0</td>\n",
       "      <td>57.0</td>\n",
       "      <td>227.0</td>\n",
       "    </tr>\n",
       "    <tr>\n",
       "      <th>675</th>\n",
       "      <td>20190309</td>\n",
       "      <td>0.0</td>\n",
       "      <td>2.609195</td>\n",
       "      <td>0</td>\n",
       "      <td>0</td>\n",
       "      <td>0</td>\n",
       "      <td>0.0</td>\n",
       "      <td>0.0</td>\n",
       "      <td>0.0</td>\n",
       "      <td>0.0</td>\n",
       "      <td>0.0</td>\n",
       "      <td>0.0</td>\n",
       "      <td>20.0</td>\n",
       "      <td>68.0</td>\n",
       "    </tr>\n",
       "    <tr>\n",
       "      <th>676</th>\n",
       "      <td>20190310</td>\n",
       "      <td>0.0</td>\n",
       "      <td>2.596154</td>\n",
       "      <td>0</td>\n",
       "      <td>0</td>\n",
       "      <td>0</td>\n",
       "      <td>0.0</td>\n",
       "      <td>0.0</td>\n",
       "      <td>0.0</td>\n",
       "      <td>0.0</td>\n",
       "      <td>0.0</td>\n",
       "      <td>0.0</td>\n",
       "      <td>24.0</td>\n",
       "      <td>39.0</td>\n",
       "    </tr>\n",
       "    <tr>\n",
       "      <th>677</th>\n",
       "      <td>20190311</td>\n",
       "      <td>0.0</td>\n",
       "      <td>2.596774</td>\n",
       "      <td>122</td>\n",
       "      <td>1</td>\n",
       "      <td>1</td>\n",
       "      <td>1.0</td>\n",
       "      <td>0.0</td>\n",
       "      <td>0.0</td>\n",
       "      <td>0.0</td>\n",
       "      <td>0.0</td>\n",
       "      <td>1.0</td>\n",
       "      <td>6.0</td>\n",
       "      <td>10.0</td>\n",
       "    </tr>\n",
       "  </tbody>\n",
       "</table>\n",
       "</div>"
      ],
      "text/plain": [
       "         date  absent_count      vote  commentLength  likes  dislikes  \\\n",
       "673  20190307           0.0  2.628440           1640    197        29   \n",
       "674  20190308           0.0  2.602941           1345    164        76   \n",
       "675  20190309           0.0  2.609195              0      0         0   \n",
       "676  20190310           0.0  2.596154              0      0         0   \n",
       "677  20190311           0.0  2.596774            122      1         1   \n",
       "\n",
       "     comment_count  CONGRATULATION  CRITICISM  INFORMATION  OTHER  SUGGESTION  \\\n",
       "673           19.0             2.0        0.0          4.0   13.0         0.0   \n",
       "674           13.0             1.0        1.0          4.0    6.0         1.0   \n",
       "675            0.0             0.0        0.0          0.0    0.0         0.0   \n",
       "676            0.0             0.0        0.0          0.0    0.0         0.0   \n",
       "677            1.0             0.0        0.0          0.0    0.0         1.0   \n",
       "\n",
       "     disagree  agree  \n",
       "673      37.0  152.0  \n",
       "674      57.0  227.0  \n",
       "675      20.0   68.0  \n",
       "676      24.0   39.0  \n",
       "677       6.0   10.0  "
      ]
     },
     "execution_count": 145,
     "metadata": {},
     "output_type": "execute_result"
    }
   ],
   "source": [
    "# Join into one dataframe: Absenteeism / Votes / Comment / (Interaction) per day\n",
    "df_classifier = pd.merge(absent_count, votes_mean, left_on='absent_date', right_on='voteDate', how = 'outer')  ## join Absenteeism / Votes\n",
    "df_classifier = pd.merge(df_classifier, comment, left_on='voteDate', right_on='commentDate', how = 'outer')  ## then join to Comment\n",
    "df_classifier = pd.merge(df_classifier, interactionType_count, left_on='commentDate', right_on='actionDate', how = 'outer')  ## then join to Interaction\n",
    "df_classifier.tail() ## fill NaN?! e.g. instances where there might be a vote that day, but no absences.\n",
    "\n",
    "\n",
    "# Create master date column of all the various dates e.g. 'absent_date', 'voteDate', 'commentDate'\n",
    "## Extract the date columns into individual dataframes\n",
    "d1 = df_classifier['absent_date'].dropna()\n",
    "d1 = d1.reset_index(name='date')  ## format series output into dframe\n",
    "d1.head()\n",
    "\n",
    "d2 = df_classifier['voteDate'].dropna()\n",
    "d2 = d2.reset_index(name='date')  ## format series output into dframe\n",
    "d2.head()\n",
    "\n",
    "d3 = df_classifier['commentDate'].dropna()\n",
    "d3 = d3.reset_index(name='date')  ## format series output into dframe\n",
    "d3.head()\n",
    "\n",
    "## Join into one dates dataframe, using date as the key\n",
    "date = pd.merge(d1, d2, on='date', how = 'outer')\n",
    "date = pd.merge(date, d3, on='date', how = 'outer')\n",
    "date.tail()\n",
    "\n",
    "## Append the master date column to the cleaned dataset\n",
    "df_classifier = pd.concat([df_classifier, date['date']], axis=1) ## row index already aligned\n",
    "df_classifier.tail()\n",
    "\n",
    "\n",
    "# Further cleaning\n",
    "## Fill null values with '0'\n",
    "df_classifier.fillna(value=0, inplace=True)\n",
    "df_classifier.tail()\n",
    "\n",
    "\n",
    "## Convert date to datetime, then sort serially from oldest to recent\n",
    "df_classifier['date'] = pd.to_datetime(df_classifier['date'])  ## convert to datetime\n",
    "df_classifier = df_classifier.sort_values(by='date').reset_index(drop=True) ## sort & reindex\n",
    "df_classifier['date'] = df_classifier['date'].dt.strftime('%Y%m%d') ## Convert to yyyymmdd date format,\n",
    "df_classifier.head()\n",
    "\n",
    "## Clean the dataframe further by dropping \"absent_date\", \"voteDate\", and \"commentDate\" columns - possibly redundant\n",
    "#df_classifier.columns.tolist()  ## extract column names into list\n",
    "### column names to retain\n",
    "col = ['date',\n",
    " 'absent_count',\n",
    " 'vote',\n",
    " 'commentLength',\n",
    " 'likes',\n",
    " 'dislikes',\n",
    " 'comment_count',\n",
    " 'CONGRATULATION',\n",
    " 'CRITICISM',\n",
    " 'INFORMATION',\n",
    " 'OTHER',\n",
    " 'SUGGESTION',\n",
    " 'disagree',\n",
    " 'agree']\n",
    "\n",
    "df_classifier = df_classifier[col]\n",
    "df_classifier.tail()"
   ]
  },
  {
   "cell_type": "markdown",
   "metadata": {},
   "source": [
    "### Objective 1: Develop machine learning to predict absenteeism - svm / trees"
   ]
  },
  {
   "cell_type": "markdown",
   "metadata": {},
   "source": [
    "Machine Learning algorithms is applied to the master dataset BY DATE, to predict absenteeism on a given date."
   ]
  },
  {
   "cell_type": "markdown",
   "metadata": {},
   "source": [
    "#### a) Normalise Data & Split into Training & Test set (25%)"
   ]
  },
  {
   "cell_type": "code",
   "execution_count": 146,
   "metadata": {},
   "outputs": [],
   "source": [
    "# Normalise the data\n",
    "from sklearn.preprocessing import MinMaxScaler\n",
    "\n",
    "scaler = MinMaxScaler() ## create the scaler\n",
    "scaler.fit(df_classifier[col]) ## fit the scaler data\n",
    "\n",
    "df_classifier_sc = df_classifier.copy() ## create copy of dataframe so you keep the orig \n",
    "df_classifier_sc[col] = scaler.transform(df_classifier[col])  ## scale the dataframe\n",
    "#df_classifier_sc.head()"
   ]
  },
  {
   "cell_type": "code",
   "execution_count": 147,
   "metadata": {},
   "outputs": [],
   "source": [
    "# Split the dataframe into Y (variable we are predicting) and x (possible explanatory factors)\n",
    "\n",
    "## Select the y and X columns\n",
    "col_Y = ['absent_count'] \n",
    "col_X=[i for i in col if i not in col_Y] ## rest of the columns\n",
    "\n",
    "## Split dataframe into Y and X \n",
    "Y = df_classifier_sc[col_Y]\n",
    "X = df_classifier_sc[col_X]\n",
    "#X.head()"
   ]
  },
  {
   "cell_type": "code",
   "execution_count": 148,
   "metadata": {},
   "outputs": [],
   "source": [
    "# Serial data: retain most recent 25% of data as test set (can't shuffle or randomly sample as time order important)\n",
    "train_pct_index = int(0.75 * len(X))\n",
    "X_train, X_test = X[:train_pct_index], X[train_pct_index:]\n",
    "y_train, y_test = Y[:train_pct_index], Y[train_pct_index:]"
   ]
  },
  {
   "cell_type": "code",
   "execution_count": 149,
   "metadata": {},
   "outputs": [],
   "source": [
    "# Cross-validation: time series 10-split to train model to avoid overfitting\n",
    "from sklearn import model_selection\n",
    "from sklearn.model_selection import cross_val_score\n",
    "from sklearn.model_selection import cross_val_predict\n",
    "\n",
    "from sklearn.model_selection import TimeSeriesSplit\n",
    "tscv = TimeSeriesSplit(n_splits=10)  ## create 10 subsamples to train\n",
    "\n",
    "#for train, test in tscv.split(X_train):\n",
    "    #print(\"%s %s\" % (train, test))  ## to print what the subsamples look like"
   ]
  },
  {
   "cell_type": "markdown",
   "metadata": {},
   "source": [
    "#### b) Support Vector Machine (svm)"
   ]
  },
  {
   "cell_type": "markdown",
   "metadata": {},
   "source": [
    "Source: https://medium.com/coinmonks/support-vector-regression-or-svr-8eb3acf6d0ff\n",
    "\n",
    "SVM algorithm in a regression context, tries to find the line of best fit that contains the maximum numbers of points within the corresponding threshold boundaries. "
   ]
  },
  {
   "cell_type": "code",
   "execution_count": 150,
   "metadata": {},
   "outputs": [
    {
     "name": "stdout",
     "output_type": "stream",
     "text": [
      "Support Vector Machine cross-validation average R^2: 0.530\n"
     ]
    }
   ],
   "source": [
    "scoring = 'r2' ## coefficient of determination R^2 as regression problem, rather than classification ('accuracy')\n",
    "\n",
    "from sklearn.svm import SVR\n",
    "svr = SVR()  ## regression\n",
    "results = model_selection.cross_val_score(svr, X_train, y_train, cv=tscv, scoring=scoring)\n",
    "print(\"Support Vector Machine cross-validation average R^2: %.3f\" %(results.mean()))"
   ]
  },
  {
   "cell_type": "code",
   "execution_count": 151,
   "metadata": {},
   "outputs": [
    {
     "name": "stdout",
     "output_type": "stream",
     "text": [
      "Support Vector Machine test-set R^2: -0.055\n"
     ]
    }
   ],
   "source": [
    "# SVR: Performance on test set\n",
    "svr.fit(X_train, y_train)\n",
    "\n",
    "# Coefficient of determination R^2 of the prediction; best possible score is 1.0\n",
    "svm_confidence = svr.score(X_test, y_test)\n",
    "print(\"Support Vector Machine test-set R^2: %.3f\" %(svm_confidence))"
   ]
  },
  {
   "cell_type": "markdown",
   "metadata": {},
   "source": [
    "#### c) Random Forest Regressor (tree)"
   ]
  },
  {
   "cell_type": "markdown",
   "metadata": {},
   "source": [
    "Source: https://en.wikipedia.org/wiki/Random_forest\n",
    "\n",
    "Random Forest algorithm in a regression context, constructs a number of trees at training time, and outputs the mean prediction of the individual tree. "
   ]
  },
  {
   "cell_type": "code",
   "execution_count": 152,
   "metadata": {},
   "outputs": [
    {
     "name": "stdout",
     "output_type": "stream",
     "text": [
      "Random Forest Regressor cross-validation average R^2: 0.294\n"
     ]
    }
   ],
   "source": [
    "from sklearn.ensemble import RandomForestRegressor\n",
    "rf = RandomForestRegressor()\n",
    "results = model_selection.cross_val_score(rf, X_train, y_train, cv=tscv, scoring=scoring)\n",
    "print(\"Random Forest Regressor cross-validation average R^2: %.3f\" %(results.mean()))"
   ]
  },
  {
   "cell_type": "code",
   "execution_count": 153,
   "metadata": {},
   "outputs": [
    {
     "name": "stdout",
     "output_type": "stream",
     "text": [
      "Random Forest test-set R^2: -0.119\n"
     ]
    }
   ],
   "source": [
    "# Random Forest: Performance on test set\n",
    "rf.fit(X_train, y_train)\n",
    "\n",
    "# Coefficient of determination R^2 of the prediction; best possible score is 1.0\n",
    "rf_confidence = rf.score(X_test, y_test)\n",
    "print(\"Random Forest test-set R^2: %.3f\" %(rf_confidence))"
   ]
  },
  {
   "cell_type": "markdown",
   "metadata": {},
   "source": [
    "#### d) Plot absence prediction vs actuals (test data)"
   ]
  },
  {
   "cell_type": "code",
   "execution_count": 155,
   "metadata": {},
   "outputs": [
    {
     "data": {
      "image/png": "[encoded data removed]",
      "text/plain": [
       "<Figure size 432x288 with 1 Axes>"
      ]
     },
     "metadata": {
      "needs_background": "light"
     },
     "output_type": "display_data"
    }
   ],
   "source": [
    "# SVM & random forest prediction on test set\n",
    "svm_prediction = svr.predict(X_test)\n",
    "rf_prediction = rf.predict(X_test)\n",
    "\n",
    "# Plot prediction vs actuals\n",
    "fig = plt.figure()\n",
    "ax = plt.axes()\n",
    "x_axes = df_classifier['date'][train_pct_index:] ## x-axes = dates on the test set\n",
    "\n",
    "plt.plot(x_axes, svm_prediction, '-g', label='svm')\n",
    "plt.plot(x_axes, rf_prediction, '-b', label='random forest')\n",
    "plt.plot(x_axes, y_test, '-r', label='actuals')\n",
    "\n",
    "plt.title(\"Absenteeism: machine learning prediction vs actuals\")\n",
    "plt.xlabel(\"Date\")\n",
    "plt.ylabel(\"Number of absenteeism, MinMax scaled\")\n",
    "plt.legend()\n",
    "\n",
    "import matplotlib.ticker as plticker\n",
    "loc = plticker.MultipleLocator(base=50) # this locator puts ticks at regular intervals\n",
    "ax.xaxis.set_major_locator(loc)"
   ]
  },
  {
   "cell_type": "markdown",
   "metadata": {},
   "source": [
    "**INSIGHT** - The number of absentees predicted by the Support Vector Machine and Random Forest ML algorithms are brittle. \n",
    "* The ML models were trained using time-series cross-validation that serially splits the training data into 10 sub-samples, to avoid the problem of overfitting the models. The average Coefficient of Determination (R^2) was calculated across these samples, to check how the predicted absenteeism is aligned to the actual absenteeism. SVR leads to a higher R^2 score (0.530) than Random Forest (0.294) - R^2 ranges from 0 to 1, with 1 being the best outcome. **Cross-validation suggest that SVR is the better model of the two**, with c53% of the variance in the dependent variable (number of absentees per day) is predictable from the independent variables e.g. average score, comment length/count, number of dis/likes, feedback type, dis/agree etc\n",
    "* The models were then tested using the test dataset (the most recent 25% of data that was not used in training/validation) to assess brittleness. **Both models led to negative test R^2 scores**: SVR (-0.055) & Random Forest (-0.119). This implies that the mean of the test data provides a better fit to the outcomes than do the fitted model values. In short, our **machine learning models do a poor job are predicting the number of absentees per day** i.e. ML models are brittle. \n",
    "* Why the poor predictions? One possible reason is that we have used the default hyper-parameters for the ML models, and have not taken the time to fine-tune these parameters to see if we can improve the predictions. This is a possible future avenue of investigation."
   ]
  },
  {
   "cell_type": "markdown",
   "metadata": {},
   "source": [
    "### Objective 2: Analyse which features are likely to predict absenteeism\n",
    "#### Feature Selection - Recursive Feature Elimination (RFE) \n",
    "<br>\n",
    "Source: https://towardsdatascience.com/predict-employee-turnover-with-python-da4975588aa3\n",
    "<br>\n",
    "<br>\n",
    "RFE works by recursively removing variables and building a model on those variables that remain. It uses the model accuracy to identify which variables (and combination of variables) contribute the most to predicting absenteeism. "
   ]
  },
  {
   "cell_type": "code",
   "execution_count": 156,
   "metadata": {},
   "outputs": [
    {
     "name": "stdout",
     "output_type": "stream",
     "text": [
      "[ True False False False  True  True  True False  True  True False False]\n",
      "[1 7 6 3 1 1 1 2 1 1 5 4]\n"
     ]
    }
   ],
   "source": [
    "## Use Recursive Feature Elimination to select which features are likely to predict absenteeism\n",
    "from sklearn.feature_selection import RFE\n",
    "from sklearn.linear_model import LogisticRegression\n",
    "\n",
    "col_X.remove('date')  ## remove 'date' column as giving error in RFE\n",
    "\n",
    "# Select y, x columns from the un-normalised data (gives error if using normalised data)\n",
    "y = df_classifier[col_Y]\n",
    "x = df_classifier[col_X] \n",
    "\n",
    "model = LogisticRegression()\n",
    "rfe = RFE(model)\n",
    "rfe = rfe.fit(x, y)\n",
    "print(rfe.support_)\n",
    "print(rfe.ranking_)"
   ]
  },
  {
   "cell_type": "code",
   "execution_count": 157,
   "metadata": {},
   "outputs": [
    {
     "data": {
      "text/plain": [
       "['vote = 1',\n",
       " 'comment_count = 1',\n",
       " 'CONGRATULATION = 1',\n",
       " 'CRITICISM = 1',\n",
       " 'OTHER = 1',\n",
       " 'SUGGESTION = 1',\n",
       " 'INFORMATION = 2',\n",
       " 'dislikes = 3',\n",
       " 'agree = 4',\n",
       " 'disagree = 5',\n",
       " 'likes = 6',\n",
       " 'commentLength = 7']"
      ]
     },
     "execution_count": 157,
     "metadata": {},
     "output_type": "execute_result"
    }
   ],
   "source": [
    "## Convert the rankings into features names, and sort by best predictors to worse\n",
    "ranking_dict = dict(zip(col_X, rfe.ranking_)) ## create dictionary: feature name to ranking\n",
    "#print(ranking_dict)\n",
    "[(str(key)+\" = \"+ str(value)) for (key, value) in sorted(ranking_dict.items(), key=lambda x: x[1])]  ## sort by best predictors to worse"
   ]
  },
  {
   "cell_type": "markdown",
   "metadata": {},
   "source": [
    "**INSIGHT** - RFE suggests there are 6 features that are likely to predict absenteeism:\n",
    "* **vote**: average vote score per day, re. \"How are you today?\"\n",
    "* **comment_count**: number of comments per day\n",
    "* **CONGRATULATION, CRITICISM, OTHER, SUGGESTION**: frequency of these feedback type per day"
   ]
  },
  {
   "cell_type": "markdown",
   "metadata": {},
   "source": [
    "### Absenteeism / Votes / Comment / Interactions / Participation - analyse and combine BY EMPLOYEE (df_employee)"
   ]
  },
  {
   "cell_type": "markdown",
   "metadata": {},
   "source": [
    "To enable the categorisation of employees by motivation, a second master dataset is created BY EMPLOYEE i.e. employee ID vs frequency of each absent type, vote score etc."
   ]
  },
  {
   "cell_type": "markdown",
   "metadata": {},
   "source": [
    "#### a) Calculate frequency of each absent type by employee"
   ]
  },
  {
   "cell_type": "code",
   "execution_count": 158,
   "metadata": {},
   "outputs": [],
   "source": [
    "#df_absentee.head()\n",
    "\n",
    "# Calculate frequency of each absent type, by employee\n",
    "## Note: If an employee has been away for 7 days straight, this is counted as frequency 1, rather than 7\n",
    "eabsent = df_absentee.pivot_table(index=\"employee\", columns='reason', aggfunc='size', fill_value=0)\n",
    "#eabsent.head()\n",
    "\n",
    "#df_absentee[df_absentee[\"employee\"] == '2ER']  ## sense check: filter for a specific employee"
   ]
  },
  {
   "cell_type": "markdown",
   "metadata": {},
   "source": [
    "#### b) Calculate the min, max, mean vote score and total count of votes by employee, re. \"How are you today?"
   ]
  },
  {
   "cell_type": "code",
   "execution_count": 159,
   "metadata": {},
   "outputs": [],
   "source": [
    "#df_votes.head()\n",
    "\n",
    "# Calculate min, max, mean vote score votes by employee\n",
    "evotes = df_votes.pivot_table(index=\"employee\", aggfunc={'vote': [min, max, 'mean']}, fill_value=0)\n",
    "#evotes.head()\n",
    "\n",
    "#df_votes[df_votes[\"employee\"] == '1Bl']  ## sense check: filter for a specific employee\n",
    "## TO DO: rename column with vote_ prefix"
   ]
  },
  {
   "cell_type": "markdown",
   "metadata": {},
   "source": [
    "#### c) Comments: calculate the total comment length, likes, dislikes per employee; and frequency of each feedback type by employee"
   ]
  },
  {
   "cell_type": "code",
   "execution_count": 160,
   "metadata": {},
   "outputs": [],
   "source": [
    "#df_comment.head()\n",
    "\n",
    "# Calculate comments posted by employee, and amounts of dis/likes to comment by other employees (min, max, mean)\n",
    "ecommentstat = df_comment.pivot_table(index=\"employee\", aggfunc={'commentLength': [min, max, 'mean'],\n",
    "                                                            'likes': [min, max, 'mean'],\n",
    "                                                             'dislikes': [min, max, 'mean'],\n",
    "                                                             'feedbackType': ['count'],\n",
    "                                                            }, fill_value=0)\n",
    "ecommentstat.head()\n",
    "\n",
    "# Calculate frequency of each comment type, by employee\n",
    "efeedbackType_count = df_comment.pivot_table(index=\"employee\", columns='feedbackType', aggfunc='size', fill_value=0)\n",
    "efeedbackType_count.head()\n",
    "\n",
    "# Join into one comments dataframe: comment length, likes, dislikes; Count number of comments; Frequency of each feedback type by employee\n",
    "ecomment = pd.merge(ecommentstat, efeedbackType_count, on='employee', how = 'outer')\n",
    "#ecomment.head()"
   ]
  },
  {
   "cell_type": "markdown",
   "metadata": {},
   "source": [
    "#### d) Frequency of each interaction type by employee"
   ]
  },
  {
   "cell_type": "code",
   "execution_count": 161,
   "metadata": {},
   "outputs": [],
   "source": [
    "#df_interaction.head()\n",
    "\n",
    "# Calculate frequency of each interaction type, by employee\n",
    "einteraction = df_interaction.pivot_table(index=\"employee\", columns='interaction', aggfunc='size', fill_value=0)\n",
    "\n",
    "# Which Interaction is performed -1 -> disagree / 1 agree / 2 reply; relabel columns\n",
    "einteraction.rename(columns = {-1:'disagree', 1:'agree'}, inplace = True) \n",
    "#einteraction.head()"
   ]
  },
  {
   "cell_type": "markdown",
   "metadata": {},
   "source": [
    "#### e) Absenteeism / Votes / Comment / Interaction / Participation - combine into master dataframe BY EMPLOYEE"
   ]
  },
  {
   "cell_type": "code",
   "execution_count": 162,
   "metadata": {},
   "outputs": [
    {
     "data": {
      "text/html": [
       "<div>\n",
       "<style scoped>\n",
       "    .dataframe tbody tr th:only-of-type {\n",
       "        vertical-align: middle;\n",
       "    }\n",
       "\n",
       "    .dataframe tbody tr th {\n",
       "        vertical-align: top;\n",
       "    }\n",
       "\n",
       "    .dataframe thead th {\n",
       "        text-align: right;\n",
       "    }\n",
       "</style>\n",
       "<table border=\"1\" class=\"dataframe\">\n",
       "  <thead>\n",
       "    <tr style=\"text-align: right;\">\n",
       "      <th></th>\n",
       "      <th>employee</th>\n",
       "      <th>numVotes</th>\n",
       "      <th>lastParticipationDate</th>\n",
       "      <th>timezone</th>\n",
       "      <th>stillExists</th>\n",
       "      <th>deletedOn</th>\n",
       "      <th>Common sickness  or accident not related to the job</th>\n",
       "      <th>Long term sick leave</th>\n",
       "      <th>Non job related sickness</th>\n",
       "      <th>Workplace accident</th>\n",
       "      <th>...</th>\n",
       "      <th>('likes', 'max')</th>\n",
       "      <th>('likes', 'mean')</th>\n",
       "      <th>('likes', 'min')</th>\n",
       "      <th>CONGRATULATION</th>\n",
       "      <th>CRITICISM</th>\n",
       "      <th>INFORMATION</th>\n",
       "      <th>OTHER</th>\n",
       "      <th>SUGGESTION</th>\n",
       "      <th>disagree</th>\n",
       "      <th>agree</th>\n",
       "    </tr>\n",
       "  </thead>\n",
       "  <tbody>\n",
       "    <tr>\n",
       "      <th>0</th>\n",
       "      <td>l8</td>\n",
       "      <td>285.0</td>\n",
       "      <td>20190308</td>\n",
       "      <td>Europe/Madrid</td>\n",
       "      <td>True</td>\n",
       "      <td>19700101</td>\n",
       "      <td>0.0</td>\n",
       "      <td>0.0</td>\n",
       "      <td>0.0</td>\n",
       "      <td>0.0</td>\n",
       "      <td>...</td>\n",
       "      <td>39.0</td>\n",
       "      <td>7.565217</td>\n",
       "      <td>0.0</td>\n",
       "      <td>2.0</td>\n",
       "      <td>0.0</td>\n",
       "      <td>2.0</td>\n",
       "      <td>17.0</td>\n",
       "      <td>2.0</td>\n",
       "      <td>33.0</td>\n",
       "      <td>35.0</td>\n",
       "    </tr>\n",
       "    <tr>\n",
       "      <th>1</th>\n",
       "      <td>Xv</td>\n",
       "      <td>143.0</td>\n",
       "      <td>20180421</td>\n",
       "      <td>Europe/Berlin</td>\n",
       "      <td>True</td>\n",
       "      <td>19700101</td>\n",
       "      <td>0.0</td>\n",
       "      <td>0.0</td>\n",
       "      <td>0.0</td>\n",
       "      <td>0.0</td>\n",
       "      <td>...</td>\n",
       "      <td>28.0</td>\n",
       "      <td>25.000000</td>\n",
       "      <td>22.0</td>\n",
       "      <td>2.0</td>\n",
       "      <td>0.0</td>\n",
       "      <td>0.0</td>\n",
       "      <td>0.0</td>\n",
       "      <td>0.0</td>\n",
       "      <td>6.0</td>\n",
       "      <td>202.0</td>\n",
       "    </tr>\n",
       "    <tr>\n",
       "      <th>2</th>\n",
       "      <td>w7</td>\n",
       "      <td>381.0</td>\n",
       "      <td>20190311</td>\n",
       "      <td>Europe/Madrid</td>\n",
       "      <td>True</td>\n",
       "      <td>19700101</td>\n",
       "      <td>0.0</td>\n",
       "      <td>0.0</td>\n",
       "      <td>0.0</td>\n",
       "      <td>0.0</td>\n",
       "      <td>...</td>\n",
       "      <td>38.0</td>\n",
       "      <td>19.500000</td>\n",
       "      <td>6.0</td>\n",
       "      <td>1.0</td>\n",
       "      <td>0.0</td>\n",
       "      <td>1.0</td>\n",
       "      <td>2.0</td>\n",
       "      <td>0.0</td>\n",
       "      <td>79.0</td>\n",
       "      <td>426.0</td>\n",
       "    </tr>\n",
       "    <tr>\n",
       "      <th>3</th>\n",
       "      <td>jE</td>\n",
       "      <td>173.0</td>\n",
       "      <td>20190301</td>\n",
       "      <td>Europe/Madrid</td>\n",
       "      <td>True</td>\n",
       "      <td>19700101</td>\n",
       "      <td>0.0</td>\n",
       "      <td>0.0</td>\n",
       "      <td>0.0</td>\n",
       "      <td>0.0</td>\n",
       "      <td>...</td>\n",
       "      <td>0.0</td>\n",
       "      <td>0.000000</td>\n",
       "      <td>0.0</td>\n",
       "      <td>0.0</td>\n",
       "      <td>0.0</td>\n",
       "      <td>0.0</td>\n",
       "      <td>0.0</td>\n",
       "      <td>0.0</td>\n",
       "      <td>1.0</td>\n",
       "      <td>14.0</td>\n",
       "    </tr>\n",
       "    <tr>\n",
       "      <th>4</th>\n",
       "      <td>QP</td>\n",
       "      <td>312.0</td>\n",
       "      <td>20190308</td>\n",
       "      <td>Europe/Berlin</td>\n",
       "      <td>True</td>\n",
       "      <td>19700101</td>\n",
       "      <td>0.0</td>\n",
       "      <td>0.0</td>\n",
       "      <td>0.0</td>\n",
       "      <td>0.0</td>\n",
       "      <td>...</td>\n",
       "      <td>28.0</td>\n",
       "      <td>4.750000</td>\n",
       "      <td>0.0</td>\n",
       "      <td>1.0</td>\n",
       "      <td>0.0</td>\n",
       "      <td>0.0</td>\n",
       "      <td>7.0</td>\n",
       "      <td>0.0</td>\n",
       "      <td>53.0</td>\n",
       "      <td>174.0</td>\n",
       "    </tr>\n",
       "  </tbody>\n",
       "</table>\n",
       "<p>5 rows × 30 columns</p>\n",
       "</div>"
      ],
      "text/plain": [
       "  employee  numVotes lastParticipationDate       timezone stillExists  \\\n",
       "0       l8     285.0              20190308  Europe/Madrid        True   \n",
       "1       Xv     143.0              20180421  Europe/Berlin        True   \n",
       "2       w7     381.0              20190311  Europe/Madrid        True   \n",
       "3       jE     173.0              20190301  Europe/Madrid        True   \n",
       "4       QP     312.0              20190308  Europe/Berlin        True   \n",
       "\n",
       "  deletedOn  Common sickness  or accident not related to the job  \\\n",
       "0  19700101                                                0.0     \n",
       "1  19700101                                                0.0     \n",
       "2  19700101                                                0.0     \n",
       "3  19700101                                                0.0     \n",
       "4  19700101                                                0.0     \n",
       "\n",
       "   Long term sick leave  Non job related sickness  Workplace accident  ...    \\\n",
       "0                   0.0                       0.0                 0.0  ...     \n",
       "1                   0.0                       0.0                 0.0  ...     \n",
       "2                   0.0                       0.0                 0.0  ...     \n",
       "3                   0.0                       0.0                 0.0  ...     \n",
       "4                   0.0                       0.0                 0.0  ...     \n",
       "\n",
       "   ('likes', 'max')  ('likes', 'mean')  ('likes', 'min')  CONGRATULATION  \\\n",
       "0              39.0           7.565217               0.0             2.0   \n",
       "1              28.0          25.000000              22.0             2.0   \n",
       "2              38.0          19.500000               6.0             1.0   \n",
       "3               0.0           0.000000               0.0             0.0   \n",
       "4              28.0           4.750000               0.0             1.0   \n",
       "\n",
       "   CRITICISM  INFORMATION  OTHER  SUGGESTION  disagree  agree  \n",
       "0        0.0          2.0   17.0         2.0      33.0   35.0  \n",
       "1        0.0          0.0    0.0         0.0       6.0  202.0  \n",
       "2        0.0          1.0    2.0         0.0      79.0  426.0  \n",
       "3        0.0          0.0    0.0         0.0       1.0   14.0  \n",
       "4        0.0          0.0    7.0         0.0      53.0  174.0  \n",
       "\n",
       "[5 rows x 30 columns]"
      ]
     },
     "execution_count": 162,
     "metadata": {},
     "output_type": "execute_result"
    }
   ],
   "source": [
    "# Combine into master dataframe BY EMPLOYEE \n",
    "df_employee = pd.merge(df_participation, eabsent, on='employee', how = 'outer')\n",
    "df_employee = pd.merge(df_employee, evotes, on='employee', how = 'outer')\n",
    "df_employee = pd.merge(df_employee, ecomment, on='employee', how = 'outer')\n",
    "df_employee = pd.merge(df_employee, einteraction, on='employee', how = 'outer')\n",
    "\n",
    "\n",
    "# Further cleaning\n",
    "## Fill null values with '0'\n",
    "df_employee.fillna(value=0, inplace=True)\n",
    "\n",
    "## Drop unecessary columns (all employees are from same company C1)\n",
    "df_employee = df_employee.drop(['companyAlias'], axis=1)\n",
    "\n",
    "## Convert column names to string\n",
    "emp_col = df_employee.columns.tolist()  ## extract orig column names to list\n",
    "emp_col = [str(i) for i in emp_col]  ## convert elements to string\n",
    "df_employee.columns = emp_col\n",
    "\n",
    "## Convert date to datetime\n",
    "df_employee['lastParticipationDate'] = pd.to_datetime(df_employee['lastParticipationDate'])  ## convert to datetime\n",
    "df_employee['lastParticipationDate'] = df_employee['lastParticipationDate'].dt.strftime('%Y%m%d') ## Convert to yyyymmdd date format\n",
    "\n",
    "df_employee['deletedOn'] = pd.to_datetime(df_employee['deletedOn'])  ## convert to datetime\n",
    "df_employee['deletedOn'] = df_employee['deletedOn'].dt.strftime('%Y%m%d') ## Convert to yyyymmdd date format\n",
    "\n",
    "## Convert 'timezone' column to string, so LabelEncoder works (previously filled null values with 0)\n",
    "df_employee['timezone'] = df_employee['timezone'].astype(str)\n",
    "\n",
    "df_employee.head()"
   ]
  },
  {
   "cell_type": "markdown",
   "metadata": {},
   "source": [
    "### Objective 3: Build categories for different **types** of employees (by motivation)"
   ]
  },
  {
   "cell_type": "markdown",
   "metadata": {},
   "source": [
    "Clustering algorithms is applied to the master dataset BY EMPLOYEE to categorise different types of employees."
   ]
  },
  {
   "cell_type": "markdown",
   "metadata": {},
   "source": [
    "#### a) Encode categorical data & normalise data"
   ]
  },
  {
   "cell_type": "code",
   "execution_count": 163,
   "metadata": {},
   "outputs": [],
   "source": [
    "# Apply label Encoder from Scikit Learn to categorical columns\n",
    "from sklearn.preprocessing import LabelEncoder\n",
    "\n",
    "## Encode categorial columns\n",
    "df_employee_encode = df_employee.copy() ## create a copy, so retain orig\n",
    "df_employee_encode[['timezone', 'stillExists']] = df_employee_encode[['timezone', 'stillExists']].apply(LabelEncoder().fit_transform)\n",
    "df_employee_encode.head()\n",
    "\n",
    "## Normalise the data\n",
    "from sklearn.preprocessing import MinMaxScaler\n",
    "\n",
    "emp_col.remove('employee')  ## want to retain employee ID, and not normalise\n",
    "\n",
    "scaler = MinMaxScaler() ## create the scaler\n",
    "scaler.fit(df_employee_encode[emp_col]) ## fit the scaler data\n",
    "\n",
    "df_employee_sc = df_employee_encode.copy() ## create copy of dataframe so you keep the orig \n",
    "df_employee_sc[emp_col] = scaler.transform(df_employee_encode[emp_col])  ## scale the dataframe\n",
    "#df_employee_sc.head()"
   ]
  },
  {
   "cell_type": "markdown",
   "metadata": {},
   "source": [
    "#### b) Cluster employees"
   ]
  },
  {
   "cell_type": "markdown",
   "metadata": {},
   "source": [
    "To determine the appropriate number of clusters, the Silhouette Score is calculated and a Dendrogram plotted - these methods suggests 5 clusters/personas would be optimal. **KMeans** algorithm is then applied to the data to cluster the employees into the 5 personas. "
   ]
  },
  {
   "cell_type": "code",
   "execution_count": 164,
   "metadata": {},
   "outputs": [],
   "source": [
    "# Select relevant columns to base clustering on\n",
    "exc_col = ['employee', 'lastParticipationDate', 'stillExists', 'deletedOn']  ## not related to motivation\n",
    "cluster_col = [i for i in emp_col if i not in exc_col]"
   ]
  },
  {
   "cell_type": "code",
   "execution_count": 165,
   "metadata": {},
   "outputs": [
    {
     "data": {
      "image/png": "[encoded data removed]",
      "text/plain": [
       "<Figure size 432x288 with 1 Axes>"
      ]
     },
     "metadata": {
      "needs_background": "light"
     },
     "output_type": "display_data"
    }
   ],
   "source": [
    "# Hierarchical Dendrograms to determine number of clusters\n",
    "\n",
    "# import hierarchical clustering libraries\n",
    "import scipy.cluster.hierarchy as sch\n",
    "from sklearn.cluster import AgglomerativeClustering\n",
    "\n",
    "# create dendrogram\n",
    "points = df_employee_sc[cluster_col]\n",
    "\n",
    "fig, ax = plt.subplots()\n",
    "ax.axis('off')\n",
    "plt.title('Dendrogram: Hierarchical Clustering')\n",
    "\n",
    "dendrogram = sch.dendrogram(sch.linkage(points, method='ward'))"
   ]
  },
  {
   "cell_type": "code",
   "execution_count": 166,
   "metadata": {},
   "outputs": [
    {
     "data": {
      "text/html": [
       "<div>\n",
       "<style scoped>\n",
       "    .dataframe tbody tr th:only-of-type {\n",
       "        vertical-align: middle;\n",
       "    }\n",
       "\n",
       "    .dataframe tbody tr th {\n",
       "        vertical-align: top;\n",
       "    }\n",
       "\n",
       "    .dataframe thead th {\n",
       "        text-align: right;\n",
       "    }\n",
       "</style>\n",
       "<table border=\"1\" class=\"dataframe\">\n",
       "  <thead>\n",
       "    <tr style=\"text-align: right;\">\n",
       "      <th></th>\n",
       "      <th>n_clusters</th>\n",
       "      <th>silhouette score</th>\n",
       "    </tr>\n",
       "  </thead>\n",
       "  <tbody>\n",
       "    <tr>\n",
       "      <th>0</th>\n",
       "      <td>2</td>\n",
       "      <td>0.244095</td>\n",
       "    </tr>\n",
       "    <tr>\n",
       "      <th>1</th>\n",
       "      <td>3</td>\n",
       "      <td>0.169023</td>\n",
       "    </tr>\n",
       "    <tr>\n",
       "      <th>2</th>\n",
       "      <td>4</td>\n",
       "      <td>0.184677</td>\n",
       "    </tr>\n",
       "    <tr>\n",
       "      <th>3</th>\n",
       "      <td>5</td>\n",
       "      <td>0.223491</td>\n",
       "    </tr>\n",
       "    <tr>\n",
       "      <th>4</th>\n",
       "      <td>6</td>\n",
       "      <td>0.195799</td>\n",
       "    </tr>\n",
       "    <tr>\n",
       "      <th>5</th>\n",
       "      <td>7</td>\n",
       "      <td>0.195617</td>\n",
       "    </tr>\n",
       "    <tr>\n",
       "      <th>6</th>\n",
       "      <td>8</td>\n",
       "      <td>0.189396</td>\n",
       "    </tr>\n",
       "    <tr>\n",
       "      <th>7</th>\n",
       "      <td>9</td>\n",
       "      <td>0.202276</td>\n",
       "    </tr>\n",
       "    <tr>\n",
       "      <th>8</th>\n",
       "      <td>10</td>\n",
       "      <td>0.205138</td>\n",
       "    </tr>\n",
       "    <tr>\n",
       "      <th>9</th>\n",
       "      <td>11</td>\n",
       "      <td>0.205162</td>\n",
       "    </tr>\n",
       "  </tbody>\n",
       "</table>\n",
       "</div>"
      ],
      "text/plain": [
       "   n_clusters  silhouette score\n",
       "0           2          0.244095\n",
       "1           3          0.169023\n",
       "2           4          0.184677\n",
       "3           5          0.223491\n",
       "4           6          0.195799\n",
       "5           7          0.195617\n",
       "6           8          0.189396\n",
       "7           9          0.202276\n",
       "8          10          0.205138\n",
       "9          11          0.205162"
      ]
     },
     "execution_count": 166,
     "metadata": {},
     "output_type": "execute_result"
    }
   ],
   "source": [
    "# import KMeans\n",
    "from sklearn.cluster import KMeans\n",
    "from sklearn.metrics import silhouette_score\n",
    "\n",
    "# Calculate silhouette score\n",
    "range_n_clusters = list(range(2,15))\n",
    "\n",
    "d = []\n",
    "\n",
    "for n_clusters in range_n_clusters:\n",
    "    clusterer = KMeans(n_clusters = n_clusters, random_state=42)\n",
    "    \n",
    "    preds = clusterer.fit_predict(points)\n",
    "    centers = clusterer.cluster_centers_\n",
    "    score = silhouette_score(points, preds, metric='euclidean')\n",
    "    \n",
    "    d.append({'n_clusters': n_clusters, 'silhouette score': score})\n",
    "\n",
    "d = pd.DataFrame(d)\n",
    "d.head(10) "
   ]
  },
  {
   "cell_type": "code",
   "execution_count": 167,
   "metadata": {},
   "outputs": [
    {
     "data": {
      "text/plain": [
       "<matplotlib.axes._subplots.AxesSubplot at 0xef07cf0748>"
      ]
     },
     "execution_count": 167,
     "metadata": {},
     "output_type": "execute_result"
    },
    {
     "data": {
      "image/png": "[encoded data removed]",
      "text/plain": [
       "<Figure size 432x288 with 1 Axes>"
      ]
     },
     "metadata": {
      "needs_background": "light"
     },
     "output_type": "display_data"
    }
   ],
   "source": [
    "# Plot silhouette score for varying number of clusters\n",
    "plt.title('Silhouette Score vs Number of Clusters')\n",
    "d['silhouette score'].plot.line(x = d['n_clusters'] )\n",
    "\n",
    "## TO DO: correct the labelling of x-axis "
   ]
  },
  {
   "cell_type": "code",
   "execution_count": 168,
   "metadata": {},
   "outputs": [
    {
     "data": {
      "text/html": [
       "<div>\n",
       "<style scoped>\n",
       "    .dataframe tbody tr th:only-of-type {\n",
       "        vertical-align: middle;\n",
       "    }\n",
       "\n",
       "    .dataframe tbody tr th {\n",
       "        vertical-align: top;\n",
       "    }\n",
       "\n",
       "    .dataframe thead th {\n",
       "        text-align: right;\n",
       "    }\n",
       "</style>\n",
       "<table border=\"1\" class=\"dataframe\">\n",
       "  <thead>\n",
       "    <tr style=\"text-align: right;\">\n",
       "      <th></th>\n",
       "      <th>numVotes</th>\n",
       "      <th>timezone</th>\n",
       "      <th>Common sickness  or accident not related to the job</th>\n",
       "      <th>Long term sick leave</th>\n",
       "      <th>Non job related sickness</th>\n",
       "      <th>Workplace accident</th>\n",
       "      <th>('vote', 'max')</th>\n",
       "      <th>('vote', 'mean')</th>\n",
       "      <th>('vote', 'min')</th>\n",
       "      <th>('commentLength', 'max')</th>\n",
       "      <th>...</th>\n",
       "      <th>('likes', 'max')</th>\n",
       "      <th>('likes', 'mean')</th>\n",
       "      <th>('likes', 'min')</th>\n",
       "      <th>CONGRATULATION</th>\n",
       "      <th>CRITICISM</th>\n",
       "      <th>INFORMATION</th>\n",
       "      <th>OTHER</th>\n",
       "      <th>SUGGESTION</th>\n",
       "      <th>disagree</th>\n",
       "      <th>agree</th>\n",
       "    </tr>\n",
       "    <tr>\n",
       "      <th>clusters</th>\n",
       "      <th></th>\n",
       "      <th></th>\n",
       "      <th></th>\n",
       "      <th></th>\n",
       "      <th></th>\n",
       "      <th></th>\n",
       "      <th></th>\n",
       "      <th></th>\n",
       "      <th></th>\n",
       "      <th></th>\n",
       "      <th></th>\n",
       "      <th></th>\n",
       "      <th></th>\n",
       "      <th></th>\n",
       "      <th></th>\n",
       "      <th></th>\n",
       "      <th></th>\n",
       "      <th></th>\n",
       "      <th></th>\n",
       "      <th></th>\n",
       "      <th></th>\n",
       "    </tr>\n",
       "  </thead>\n",
       "  <tbody>\n",
       "    <tr>\n",
       "      <th>0</th>\n",
       "      <td>0.132533</td>\n",
       "      <td>0.804020</td>\n",
       "      <td>0.033920</td>\n",
       "      <td>0.005025</td>\n",
       "      <td>0.000000</td>\n",
       "      <td>0.002513</td>\n",
       "      <td>0.929648</td>\n",
       "      <td>0.763336</td>\n",
       "      <td>0.500000</td>\n",
       "      <td>0.009746</td>\n",
       "      <td>...</td>\n",
       "      <td>0.018239</td>\n",
       "      <td>0.013580</td>\n",
       "      <td>0.003029</td>\n",
       "      <td>0.003853</td>\n",
       "      <td>0.002513</td>\n",
       "      <td>0.000516</td>\n",
       "      <td>0.005722</td>\n",
       "      <td>0.000838</td>\n",
       "      <td>0.004380</td>\n",
       "      <td>0.016120</td>\n",
       "    </tr>\n",
       "    <tr>\n",
       "      <th>1</th>\n",
       "      <td>0.644344</td>\n",
       "      <td>0.803763</td>\n",
       "      <td>0.062500</td>\n",
       "      <td>0.000000</td>\n",
       "      <td>0.000000</td>\n",
       "      <td>0.012097</td>\n",
       "      <td>0.979839</td>\n",
       "      <td>0.701862</td>\n",
       "      <td>0.308468</td>\n",
       "      <td>0.097825</td>\n",
       "      <td>...</td>\n",
       "      <td>0.215532</td>\n",
       "      <td>0.140836</td>\n",
       "      <td>0.022757</td>\n",
       "      <td>0.028226</td>\n",
       "      <td>0.012097</td>\n",
       "      <td>0.005040</td>\n",
       "      <td>0.047210</td>\n",
       "      <td>0.022849</td>\n",
       "      <td>0.055151</td>\n",
       "      <td>0.125002</td>\n",
       "    </tr>\n",
       "    <tr>\n",
       "      <th>2</th>\n",
       "      <td>0.201769</td>\n",
       "      <td>0.810036</td>\n",
       "      <td>0.032258</td>\n",
       "      <td>0.000000</td>\n",
       "      <td>0.000000</td>\n",
       "      <td>0.000000</td>\n",
       "      <td>0.962366</td>\n",
       "      <td>0.708536</td>\n",
       "      <td>0.341398</td>\n",
       "      <td>0.152316</td>\n",
       "      <td>...</td>\n",
       "      <td>0.239745</td>\n",
       "      <td>0.270551</td>\n",
       "      <td>0.147886</td>\n",
       "      <td>0.013620</td>\n",
       "      <td>0.026882</td>\n",
       "      <td>0.006528</td>\n",
       "      <td>0.026372</td>\n",
       "      <td>0.039427</td>\n",
       "      <td>0.020072</td>\n",
       "      <td>0.055591</td>\n",
       "    </tr>\n",
       "    <tr>\n",
       "      <th>3</th>\n",
       "      <td>0.010964</td>\n",
       "      <td>0.571429</td>\n",
       "      <td>0.053571</td>\n",
       "      <td>0.071429</td>\n",
       "      <td>0.071429</td>\n",
       "      <td>0.000000</td>\n",
       "      <td>0.071429</td>\n",
       "      <td>0.062500</td>\n",
       "      <td>0.053571</td>\n",
       "      <td>0.000000</td>\n",
       "      <td>...</td>\n",
       "      <td>0.000000</td>\n",
       "      <td>0.000000</td>\n",
       "      <td>0.000000</td>\n",
       "      <td>0.000000</td>\n",
       "      <td>0.000000</td>\n",
       "      <td>0.000000</td>\n",
       "      <td>0.000000</td>\n",
       "      <td>0.000000</td>\n",
       "      <td>0.000412</td>\n",
       "      <td>0.001522</td>\n",
       "    </tr>\n",
       "    <tr>\n",
       "      <th>4</th>\n",
       "      <td>0.641987</td>\n",
       "      <td>0.792453</td>\n",
       "      <td>0.108491</td>\n",
       "      <td>0.009434</td>\n",
       "      <td>0.000000</td>\n",
       "      <td>0.000000</td>\n",
       "      <td>0.995283</td>\n",
       "      <td>0.697747</td>\n",
       "      <td>0.301887</td>\n",
       "      <td>0.355340</td>\n",
       "      <td>...</td>\n",
       "      <td>0.512229</td>\n",
       "      <td>0.246319</td>\n",
       "      <td>0.006203</td>\n",
       "      <td>0.100000</td>\n",
       "      <td>0.066038</td>\n",
       "      <td>0.084485</td>\n",
       "      <td>0.260846</td>\n",
       "      <td>0.126834</td>\n",
       "      <td>0.204426</td>\n",
       "      <td>0.319973</td>\n",
       "    </tr>\n",
       "  </tbody>\n",
       "</table>\n",
       "<p>5 rows × 26 columns</p>\n",
       "</div>"
      ],
      "text/plain": [
       "          numVotes  timezone  \\\n",
       "clusters                       \n",
       "0         0.132533  0.804020   \n",
       "1         0.644344  0.803763   \n",
       "2         0.201769  0.810036   \n",
       "3         0.010964  0.571429   \n",
       "4         0.641987  0.792453   \n",
       "\n",
       "          Common sickness  or accident not related to the job  \\\n",
       "clusters                                                        \n",
       "0                                                  0.033920     \n",
       "1                                                  0.062500     \n",
       "2                                                  0.032258     \n",
       "3                                                  0.053571     \n",
       "4                                                  0.108491     \n",
       "\n",
       "          Long term sick leave  Non job related sickness  Workplace accident  \\\n",
       "clusters                                                                       \n",
       "0                     0.005025                  0.000000            0.002513   \n",
       "1                     0.000000                  0.000000            0.012097   \n",
       "2                     0.000000                  0.000000            0.000000   \n",
       "3                     0.071429                  0.071429            0.000000   \n",
       "4                     0.009434                  0.000000            0.000000   \n",
       "\n",
       "          ('vote', 'max')  ('vote', 'mean')  ('vote', 'min')  \\\n",
       "clusters                                                       \n",
       "0                0.929648          0.763336         0.500000   \n",
       "1                0.979839          0.701862         0.308468   \n",
       "2                0.962366          0.708536         0.341398   \n",
       "3                0.071429          0.062500         0.053571   \n",
       "4                0.995283          0.697747         0.301887   \n",
       "\n",
       "          ('commentLength', 'max')    ...     ('likes', 'max')  \\\n",
       "clusters                              ...                        \n",
       "0                         0.009746    ...             0.018239   \n",
       "1                         0.097825    ...             0.215532   \n",
       "2                         0.152316    ...             0.239745   \n",
       "3                         0.000000    ...             0.000000   \n",
       "4                         0.355340    ...             0.512229   \n",
       "\n",
       "          ('likes', 'mean')  ('likes', 'min')  CONGRATULATION  CRITICISM  \\\n",
       "clusters                                                                   \n",
       "0                  0.013580          0.003029        0.003853   0.002513   \n",
       "1                  0.140836          0.022757        0.028226   0.012097   \n",
       "2                  0.270551          0.147886        0.013620   0.026882   \n",
       "3                  0.000000          0.000000        0.000000   0.000000   \n",
       "4                  0.246319          0.006203        0.100000   0.066038   \n",
       "\n",
       "          INFORMATION     OTHER  SUGGESTION  disagree     agree  \n",
       "clusters                                                         \n",
       "0            0.000516  0.005722    0.000838  0.004380  0.016120  \n",
       "1            0.005040  0.047210    0.022849  0.055151  0.125002  \n",
       "2            0.006528  0.026372    0.039427  0.020072  0.055591  \n",
       "3            0.000000  0.000000    0.000000  0.000412  0.001522  \n",
       "4            0.084485  0.260846    0.126834  0.204426  0.319973  \n",
       "\n",
       "[5 rows x 26 columns]"
      ]
     },
     "execution_count": 168,
     "metadata": {},
     "output_type": "execute_result"
    }
   ],
   "source": [
    "# create kmeans object\n",
    "kmeans = KMeans(n_clusters=5, random_state=42) ## dendrogram suggests 4 clusters\n",
    "\n",
    "# fit kmeans object to data\n",
    "kmeans.fit(points)\n",
    "\n",
    "# Add the resulting cluster to each data point\n",
    "points['clusters'] = kmeans.labels_\n",
    "\n",
    "# Calculate the average\n",
    "centroids = points.groupby(['clusters']).mean()\n",
    "centroids"
   ]
  },
  {
   "cell_type": "code",
   "execution_count": 169,
   "metadata": {},
   "outputs": [
    {
     "data": {
      "text/plain": [
       "clusters\n",
       "0    199\n",
       "1    124\n",
       "2     93\n",
       "3     14\n",
       "4     53\n",
       "dtype: int64"
      ]
     },
     "execution_count": 169,
     "metadata": {},
     "output_type": "execute_result"
    }
   ],
   "source": [
    "# Calculate the size of each cluster\n",
    "points.groupby(['clusters']).size()  ## dendrogram / silhouette suggests that 5 clusters is sufficient"
   ]
  },
  {
   "cell_type": "code",
   "execution_count": 170,
   "metadata": {},
   "outputs": [
    {
     "data": {
      "application/vnd.jupyter.widget-view+json": {
       "model_id": "7596fb3a33c840d694148fa84c5c65c1",
       "version_major": 2,
       "version_minor": 0
      },
      "text/plain": [
       "interactive(children=(Dropdown(description='persona', options=(0, 1, 2, 3, 4), value=0), Output()), _dom_class…"
      ]
     },
     "metadata": {},
     "output_type": "display_data"
    }
   ],
   "source": [
    "# Visualise the clusters \n",
    "@interact(persona=[i for i in range(5)])\n",
    "def show_plot(persona):\n",
    "    centroids.iloc[persona].plot(kind='bar', color = 'blue')\n",
    "    plt.title('Employee Persona')"
   ]
  },
  {
   "cell_type": "markdown",
   "metadata": {},
   "source": [
    "**INSIGHT** - The 5 personas:\n",
    "* 0: **Happy** employee - high vote rating, minimal absences apart from common sickness, but little participation in commenting/voting\n",
    "* 1: **Voter** employee - similar to the \"Happy\" employee, but is an active voter\n",
    "* 2: **Commenter** employee - similar to the \"Happy\" employee, but is an active commenter\n",
    "* 3: **Absent** employee - frequently sick employee, minimal participation, and low vote rating\n",
    "* 4: **Vocal** employee - similar to the \"Happy\" employee, but is both an active voter & commenter   "
   ]
  },
  {
   "cell_type": "markdown",
   "metadata": {},
   "source": [
    "### Objective 4: Discuss what **actions** can be taken within an organisation to avoid absenteeism"
   ]
  },
  {
   "cell_type": "markdown",
   "metadata": {},
   "source": [
    "* From SVM & Random Forest, we note that it is difficult to predict the number of absenteeism per day. \n",
    "* However, RFE suggests that there may be some drivers that are fitting with \"common-sense\". \n",
    "* The vote score re. \"How are you today?\" is particularly revealing - the organisation could monitor these scores across different teams, and deep-dive into root-cause when the score dip / are low e.g. has there been a change in leadership / management of these teams? \n",
    "* Actively monitor the comments / feedback e.g. has there been a drop on by number of comments - what are the reasons? e.g. is it because management are not seen to be taking actions in response to feedback posted?  Read the comments (CONGRATULATION, CRITICISM, OTHER, SUGGESTION) to establish the reasons behind this, and publicly demonstrate that actions are being taken with respect to employee suggestions.\n",
    "* Finally, clustering suggests that employees interact with the \"HappyForce\" app differently - some prefer to vote, others prefer to comment. However, the frequently absent employee have low participation rate on the app, and when they do, have a low rating. This can be used as a \"red flag\" early-warning indicator on which employees are particularly at a low-ebb and managers may utilise this to intervene / signpost the employee to additional support e.g. Cognitive Behaviour Therapy, family care where appropriate."
   ]
  },
  {
   "cell_type": "code",
   "execution_count": null,
   "metadata": {},
   "outputs": [],
   "source": []
  }
 ],
 "metadata": {
  "kernelspec": {
   "display_name": "Python 3",
   "language": "python",
   "name": "python3"
  },
  "language_info": {
   "codemirror_mode": {
    "name": "ipython",
    "version": 3
   },
   "file_extension": ".py",
   "mimetype": "text/x-python",
   "name": "python",
   "nbconvert_exporter": "python",
   "pygments_lexer": "ipython3",
   "version": "3.7.0"
  }
 },
 "nbformat": 4,
 "nbformat_minor": 2
}
